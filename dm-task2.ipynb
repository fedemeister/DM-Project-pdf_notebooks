{
 "cells": [
  {
   "cell_type": "markdown",
   "execution_count": null,
   "metadata": {},
   "source": [
    "# Importamos las librerías y el DataFrame"
   ]
  },
  {
   "cell_type": "code",
   "execution_count": 1,
   "metadata": {
    "_cell_guid": "79c7e3d0-c299-4dcb-8224-4455121ee9b0",
    "_uuid": "d629ff2d2480ee46fbb7e2d37f6b5fab8052498a"
   },
   "outputs": [],
   "source": [
    "import numpy as np\n",
    "import pandas as pd\n",
    "import matplotlib.pyplot as plt\n",
    "\n",
    "df = pd.read_csv('/kaggle/input/league-of-legends-diamond-ranked-games-10-min/high_diamond_ranked_10min.csv')"
   ]
  },
  {
   "cell_type": "code",
   "execution_count": 2,
   "metadata": {},
   "outputs": [
    {
     "data": {
      "text/html": [
       "<div>\n",
       "<style scoped>\n",
       "    .dataframe tbody tr th:only-of-type {\n",
       "        vertical-align: middle;\n",
       "    }\n",
       "\n",
       "    .dataframe tbody tr th {\n",
       "        vertical-align: top;\n",
       "    }\n",
       "\n",
       "    .dataframe thead th {\n",
       "        text-align: right;\n",
       "    }\n",
       "</style>\n",
       "<table border=\"1\" class=\"dataframe\">\n",
       "  <thead>\n",
       "    <tr style=\"text-align: right;\">\n",
       "      <th></th>\n",
       "      <th>gameId</th>\n",
       "      <th>blueWins</th>\n",
       "      <th>blueWardsPlaced</th>\n",
       "      <th>blueWardsDestroyed</th>\n",
       "      <th>blueFirstBlood</th>\n",
       "      <th>blueKills</th>\n",
       "      <th>blueDeaths</th>\n",
       "      <th>blueAssists</th>\n",
       "      <th>blueEliteMonsters</th>\n",
       "      <th>blueDragons</th>\n",
       "      <th>...</th>\n",
       "      <th>redTowersDestroyed</th>\n",
       "      <th>redTotalGold</th>\n",
       "      <th>redAvgLevel</th>\n",
       "      <th>redTotalExperience</th>\n",
       "      <th>redTotalMinionsKilled</th>\n",
       "      <th>redTotalJungleMinionsKilled</th>\n",
       "      <th>redGoldDiff</th>\n",
       "      <th>redExperienceDiff</th>\n",
       "      <th>redCSPerMin</th>\n",
       "      <th>redGoldPerMin</th>\n",
       "    </tr>\n",
       "  </thead>\n",
       "  <tbody>\n",
       "    <tr>\n",
       "      <th>0</th>\n",
       "      <td>4519157822</td>\n",
       "      <td>0</td>\n",
       "      <td>28</td>\n",
       "      <td>2</td>\n",
       "      <td>1</td>\n",
       "      <td>9</td>\n",
       "      <td>6</td>\n",
       "      <td>11</td>\n",
       "      <td>0</td>\n",
       "      <td>0</td>\n",
       "      <td>...</td>\n",
       "      <td>0</td>\n",
       "      <td>16567</td>\n",
       "      <td>6.8</td>\n",
       "      <td>17047</td>\n",
       "      <td>197</td>\n",
       "      <td>55</td>\n",
       "      <td>-643</td>\n",
       "      <td>8</td>\n",
       "      <td>19.7</td>\n",
       "      <td>1656.7</td>\n",
       "    </tr>\n",
       "    <tr>\n",
       "      <th>1</th>\n",
       "      <td>4523371949</td>\n",
       "      <td>0</td>\n",
       "      <td>12</td>\n",
       "      <td>1</td>\n",
       "      <td>0</td>\n",
       "      <td>5</td>\n",
       "      <td>5</td>\n",
       "      <td>5</td>\n",
       "      <td>0</td>\n",
       "      <td>0</td>\n",
       "      <td>...</td>\n",
       "      <td>1</td>\n",
       "      <td>17620</td>\n",
       "      <td>6.8</td>\n",
       "      <td>17438</td>\n",
       "      <td>240</td>\n",
       "      <td>52</td>\n",
       "      <td>2908</td>\n",
       "      <td>1173</td>\n",
       "      <td>24.0</td>\n",
       "      <td>1762.0</td>\n",
       "    </tr>\n",
       "    <tr>\n",
       "      <th>2</th>\n",
       "      <td>4521474530</td>\n",
       "      <td>0</td>\n",
       "      <td>15</td>\n",
       "      <td>0</td>\n",
       "      <td>0</td>\n",
       "      <td>7</td>\n",
       "      <td>11</td>\n",
       "      <td>4</td>\n",
       "      <td>1</td>\n",
       "      <td>1</td>\n",
       "      <td>...</td>\n",
       "      <td>0</td>\n",
       "      <td>17285</td>\n",
       "      <td>6.8</td>\n",
       "      <td>17254</td>\n",
       "      <td>203</td>\n",
       "      <td>28</td>\n",
       "      <td>1172</td>\n",
       "      <td>1033</td>\n",
       "      <td>20.3</td>\n",
       "      <td>1728.5</td>\n",
       "    </tr>\n",
       "    <tr>\n",
       "      <th>3</th>\n",
       "      <td>4524384067</td>\n",
       "      <td>0</td>\n",
       "      <td>43</td>\n",
       "      <td>1</td>\n",
       "      <td>0</td>\n",
       "      <td>4</td>\n",
       "      <td>5</td>\n",
       "      <td>5</td>\n",
       "      <td>1</td>\n",
       "      <td>0</td>\n",
       "      <td>...</td>\n",
       "      <td>0</td>\n",
       "      <td>16478</td>\n",
       "      <td>7.0</td>\n",
       "      <td>17961</td>\n",
       "      <td>235</td>\n",
       "      <td>47</td>\n",
       "      <td>1321</td>\n",
       "      <td>7</td>\n",
       "      <td>23.5</td>\n",
       "      <td>1647.8</td>\n",
       "    </tr>\n",
       "    <tr>\n",
       "      <th>4</th>\n",
       "      <td>4436033771</td>\n",
       "      <td>0</td>\n",
       "      <td>75</td>\n",
       "      <td>4</td>\n",
       "      <td>0</td>\n",
       "      <td>6</td>\n",
       "      <td>6</td>\n",
       "      <td>6</td>\n",
       "      <td>0</td>\n",
       "      <td>0</td>\n",
       "      <td>...</td>\n",
       "      <td>0</td>\n",
       "      <td>17404</td>\n",
       "      <td>7.0</td>\n",
       "      <td>18313</td>\n",
       "      <td>225</td>\n",
       "      <td>67</td>\n",
       "      <td>1004</td>\n",
       "      <td>-230</td>\n",
       "      <td>22.5</td>\n",
       "      <td>1740.4</td>\n",
       "    </tr>\n",
       "  </tbody>\n",
       "</table>\n",
       "<p>5 rows × 40 columns</p>\n",
       "</div>"
      ],
      "text/plain": [
       "       gameId  blueWins  blueWardsPlaced  blueWardsDestroyed  blueFirstBlood  \\\n",
       "0  4519157822         0               28                   2               1   \n",
       "1  4523371949         0               12                   1               0   \n",
       "2  4521474530         0               15                   0               0   \n",
       "3  4524384067         0               43                   1               0   \n",
       "4  4436033771         0               75                   4               0   \n",
       "\n",
       "   blueKills  blueDeaths  blueAssists  blueEliteMonsters  blueDragons  ...  \\\n",
       "0          9           6           11                  0            0  ...   \n",
       "1          5           5            5                  0            0  ...   \n",
       "2          7          11            4                  1            1  ...   \n",
       "3          4           5            5                  1            0  ...   \n",
       "4          6           6            6                  0            0  ...   \n",
       "\n",
       "   redTowersDestroyed  redTotalGold  redAvgLevel  redTotalExperience  \\\n",
       "0                   0         16567          6.8               17047   \n",
       "1                   1         17620          6.8               17438   \n",
       "2                   0         17285          6.8               17254   \n",
       "3                   0         16478          7.0               17961   \n",
       "4                   0         17404          7.0               18313   \n",
       "\n",
       "   redTotalMinionsKilled  redTotalJungleMinionsKilled  redGoldDiff  \\\n",
       "0                    197                           55         -643   \n",
       "1                    240                           52         2908   \n",
       "2                    203                           28         1172   \n",
       "3                    235                           47         1321   \n",
       "4                    225                           67         1004   \n",
       "\n",
       "   redExperienceDiff  redCSPerMin  redGoldPerMin  \n",
       "0                  8         19.7         1656.7  \n",
       "1               1173         24.0         1762.0  \n",
       "2               1033         20.3         1728.5  \n",
       "3                  7         23.5         1647.8  \n",
       "4               -230         22.5         1740.4  \n",
       "\n",
       "[5 rows x 40 columns]"
      ]
     },
     "execution_count": 2,
     "metadata": {},
     "output_type": "execute_result"
    }
   ],
   "source": [
    "df.head()"
   ]
  },
  {
   "cell_type": "code",
   "execution_count": 3,
   "metadata": {},
   "outputs": [
    {
     "name": "stdout",
     "output_type": "stream",
     "text": [
      "<class 'pandas.core.frame.DataFrame'>\n",
      "RangeIndex: 9879 entries, 0 to 9878\n",
      "Data columns (total 40 columns):\n",
      " #   Column                        Non-Null Count  Dtype  \n",
      "---  ------                        --------------  -----  \n",
      " 0   gameId                        9879 non-null   int64  \n",
      " 1   blueWins                      9879 non-null   int64  \n",
      " 2   blueWardsPlaced               9879 non-null   int64  \n",
      " 3   blueWardsDestroyed            9879 non-null   int64  \n",
      " 4   blueFirstBlood                9879 non-null   int64  \n",
      " 5   blueKills                     9879 non-null   int64  \n",
      " 6   blueDeaths                    9879 non-null   int64  \n",
      " 7   blueAssists                   9879 non-null   int64  \n",
      " 8   blueEliteMonsters             9879 non-null   int64  \n",
      " 9   blueDragons                   9879 non-null   int64  \n",
      " 10  blueHeralds                   9879 non-null   int64  \n",
      " 11  blueTowersDestroyed           9879 non-null   int64  \n",
      " 12  blueTotalGold                 9879 non-null   int64  \n",
      " 13  blueAvgLevel                  9879 non-null   float64\n",
      " 14  blueTotalExperience           9879 non-null   int64  \n",
      " 15  blueTotalMinionsKilled        9879 non-null   int64  \n",
      " 16  blueTotalJungleMinionsKilled  9879 non-null   int64  \n",
      " 17  blueGoldDiff                  9879 non-null   int64  \n",
      " 18  blueExperienceDiff            9879 non-null   int64  \n",
      " 19  blueCSPerMin                  9879 non-null   float64\n",
      " 20  blueGoldPerMin                9879 non-null   float64\n",
      " 21  redWardsPlaced                9879 non-null   int64  \n",
      " 22  redWardsDestroyed             9879 non-null   int64  \n",
      " 23  redFirstBlood                 9879 non-null   int64  \n",
      " 24  redKills                      9879 non-null   int64  \n",
      " 25  redDeaths                     9879 non-null   int64  \n",
      " 26  redAssists                    9879 non-null   int64  \n",
      " 27  redEliteMonsters              9879 non-null   int64  \n",
      " 28  redDragons                    9879 non-null   int64  \n",
      " 29  redHeralds                    9879 non-null   int64  \n",
      " 30  redTowersDestroyed            9879 non-null   int64  \n",
      " 31  redTotalGold                  9879 non-null   int64  \n",
      " 32  redAvgLevel                   9879 non-null   float64\n",
      " 33  redTotalExperience            9879 non-null   int64  \n",
      " 34  redTotalMinionsKilled         9879 non-null   int64  \n",
      " 35  redTotalJungleMinionsKilled   9879 non-null   int64  \n",
      " 36  redGoldDiff                   9879 non-null   int64  \n",
      " 37  redExperienceDiff             9879 non-null   int64  \n",
      " 38  redCSPerMin                   9879 non-null   float64\n",
      " 39  redGoldPerMin                 9879 non-null   float64\n",
      "dtypes: float64(6), int64(34)\n",
      "memory usage: 3.0 MB\n"
     ]
    }
   ],
   "source": [
    "df.info()"
   ]
  },
  {
   "cell_type": "code",
   "execution_count": 4,
   "metadata": {},
   "outputs": [],
   "source": [
    "df_clean = df.copy()"
   ]
  },
  {
   "cell_type": "markdown",
   "execution_count": null,
   "metadata": {},
   "source": [
    "# Eliminamos las columnas que no nos sirvan\n",
    "Por ejemplo, que tengan poca relación o que esa relación no aporte nada que no sepamos con otros atributos.\n",
    "Pero primero de todo es quitar el gameId y quitar todas las variables que tengan que ver con el equipo rojo y algunas otras."
   ]
  },
  {
   "cell_type": "markdown",
   "execution_count": null,
   "metadata": {},
   "source": [
    "(no se muy bien por qué ha dejado algunas del equipo rojo aquí)"
   ]
  },
  {
   "cell_type": "code",
   "execution_count": 5,
   "metadata": {},
   "outputs": [],
   "source": [
    "#Drop some unecessary columns. e.g. blueFirstblood/redfirst blood blueEliteMonster/redEliteMonster blueDeath/redKills etc are repeated\n",
    "# Based on personal experience with the game, mimion yield gold+experience, we can drop minion kill too\n",
    "\n",
    "cols = ['gameId', 'redFirstBlood', 'redKills', 'redEliteMonsters', 'redDragons','redTotalMinionsKilled','redTotalJungleMinionsKilled', \n",
    "        'redGoldDiff', 'redExperienceDiff', 'redCSPerMin', 'redGoldPerMin', 'redHeralds','blueGoldDiff', 'blueExperienceDiff', 'blueCSPerMin', \n",
    "        'blueGoldPerMin', 'blueTotalMinionsKilled']\n",
    "#print(cols)\n",
    "df_clean = df_clean.drop(labels='gameId', axis = 1)\n",
    "df_clean = df_clean.drop(labels='redFirstBlood', axis = 1)\n",
    "df_clean = df_clean.drop(labels='redKills', axis = 1)\n",
    "df_clean = df_clean.drop(labels='redEliteMonsters', axis = 1)\n",
    "df_clean = df_clean.drop(labels='redDragons', axis = 1)\n",
    "df_clean = df_clean.drop(labels='redTotalMinionsKilled', axis = 1)\n",
    "df_clean = df_clean.drop(labels='redTotalJungleMinionsKilled', axis = 1)\n",
    "df_clean = df_clean.drop(labels='redGoldDiff', axis = 1)\n",
    "df_clean = df_clean.drop(labels='redExperienceDiff', axis = 1)\n",
    "df_clean = df_clean.drop(labels='redCSPerMin', axis = 1)\n",
    "df_clean = df_clean.drop(labels='redGoldPerMin', axis = 1)\n",
    "df_clean = df_clean.drop(labels='redHeralds', axis = 1)\n",
    "df_clean = df_clean.drop(labels='blueGoldDiff', axis = 1)\n",
    "df_clean = df_clean.drop(labels='blueExperienceDiff', axis = 1)\n",
    "df_clean = df_clean.drop(labels='blueCSPerMin', axis = 1)\n",
    "df_clean = df_clean.drop(labels='blueGoldPerMin', axis = 1)\n",
    "df_clean = df_clean.drop(labels='blueTotalMinionsKilled', axis = 1)\n",
    "\n"
   ]
  },
  {
   "cell_type": "markdown",
   "execution_count": null,
   "metadata": {},
   "source": [
    "El resultado es la siguiente foto:"
   ]
  },
  {
   "cell_type": "code",
   "execution_count": 6,
   "metadata": {},
   "outputs": [
    {
     "name": "stdout",
     "output_type": "stream",
     "text": [
      "<class 'pandas.core.frame.DataFrame'>\n",
      "RangeIndex: 9879 entries, 0 to 9878\n",
      "Data columns (total 23 columns):\n",
      " #   Column                        Non-Null Count  Dtype  \n",
      "---  ------                        --------------  -----  \n",
      " 0   blueWins                      9879 non-null   int64  \n",
      " 1   blueWardsPlaced               9879 non-null   int64  \n",
      " 2   blueWardsDestroyed            9879 non-null   int64  \n",
      " 3   blueFirstBlood                9879 non-null   int64  \n",
      " 4   blueKills                     9879 non-null   int64  \n",
      " 5   blueDeaths                    9879 non-null   int64  \n",
      " 6   blueAssists                   9879 non-null   int64  \n",
      " 7   blueEliteMonsters             9879 non-null   int64  \n",
      " 8   blueDragons                   9879 non-null   int64  \n",
      " 9   blueHeralds                   9879 non-null   int64  \n",
      " 10  blueTowersDestroyed           9879 non-null   int64  \n",
      " 11  blueTotalGold                 9879 non-null   int64  \n",
      " 12  blueAvgLevel                  9879 non-null   float64\n",
      " 13  blueTotalExperience           9879 non-null   int64  \n",
      " 14  blueTotalJungleMinionsKilled  9879 non-null   int64  \n",
      " 15  redWardsPlaced                9879 non-null   int64  \n",
      " 16  redWardsDestroyed             9879 non-null   int64  \n",
      " 17  redDeaths                     9879 non-null   int64  \n",
      " 18  redAssists                    9879 non-null   int64  \n",
      " 19  redTowersDestroyed            9879 non-null   int64  \n",
      " 20  redTotalGold                  9879 non-null   int64  \n",
      " 21  redAvgLevel                   9879 non-null   float64\n",
      " 22  redTotalExperience            9879 non-null   int64  \n",
      "dtypes: float64(2), int64(21)\n",
      "memory usage: 1.7 MB\n"
     ]
    }
   ],
   "source": [
    "df_clean.info()"
   ]
  },
  {
   "cell_type": "markdown",
   "execution_count": null,
   "metadata": {},
   "source": [
    "Ahora nos fijamos en la matriz de correlación y quitamos las que no estén muy correlacionadas."
   ]
  },
  {
   "cell_type": "code",
   "execution_count": 7,
   "metadata": {},
   "outputs": [],
   "source": [
    "# Based on the correlation matrix, let's clean the dataset a little bit more to avoid colinearity\n",
    "cols = ['blueAvgLevel', 'redWardsPlaced', 'redWardsDestroyed', 'redDeaths', 'redAssists', 'redTowersDestroyed',\n",
    "       'redTotalExperience', 'redTotalGold', 'redAvgLevel']\n",
    "df_clean = df_clean.drop(cols, axis=1)"
   ]
  },
  {
   "cell_type": "code",
   "execution_count": 8,
   "metadata": {},
   "outputs": [
    {
     "data": {
      "text/plain": [
       "['blueKills',\n",
       " 'blueDeaths',\n",
       " 'blueAssists',\n",
       " 'blueTotalGold',\n",
       " 'blueTotalExperience']"
      ]
     },
     "execution_count": 8,
     "metadata": {},
     "output_type": "execute_result"
    }
   ],
   "source": [
    "# Next let's drop the columns has little correlation with bluewins\n",
    "corr_list = df_clean[df_clean.columns[1:]].apply(lambda x: x.corr(df_clean['blueWins']))\n",
    "cols = []\n",
    "for col in corr_list.index:\n",
    "    if (corr_list[col]>0.23 or corr_list[col]<-0.23):\n",
    "        cols.append(col)\n",
    "cols"
   ]
  },
  {
   "cell_type": "code",
   "execution_count": 9,
   "metadata": {},
   "outputs": [
    {
     "data": {
      "text/html": [
       "<div>\n",
       "<style scoped>\n",
       "    .dataframe tbody tr th:only-of-type {\n",
       "        vertical-align: middle;\n",
       "    }\n",
       "\n",
       "    .dataframe tbody tr th {\n",
       "        vertical-align: top;\n",
       "    }\n",
       "\n",
       "    .dataframe thead th {\n",
       "        text-align: right;\n",
       "    }\n",
       "</style>\n",
       "<table border=\"1\" class=\"dataframe\">\n",
       "  <thead>\n",
       "    <tr style=\"text-align: right;\">\n",
       "      <th></th>\n",
       "      <th>blueKills</th>\n",
       "      <th>blueDeaths</th>\n",
       "      <th>blueAssists</th>\n",
       "      <th>blueTotalGold</th>\n",
       "      <th>blueTotalExperience</th>\n",
       "    </tr>\n",
       "  </thead>\n",
       "  <tbody>\n",
       "    <tr>\n",
       "      <th>0</th>\n",
       "      <td>9</td>\n",
       "      <td>6</td>\n",
       "      <td>11</td>\n",
       "      <td>17210</td>\n",
       "      <td>17039</td>\n",
       "    </tr>\n",
       "    <tr>\n",
       "      <th>1</th>\n",
       "      <td>5</td>\n",
       "      <td>5</td>\n",
       "      <td>5</td>\n",
       "      <td>14712</td>\n",
       "      <td>16265</td>\n",
       "    </tr>\n",
       "    <tr>\n",
       "      <th>2</th>\n",
       "      <td>7</td>\n",
       "      <td>11</td>\n",
       "      <td>4</td>\n",
       "      <td>16113</td>\n",
       "      <td>16221</td>\n",
       "    </tr>\n",
       "    <tr>\n",
       "      <th>3</th>\n",
       "      <td>4</td>\n",
       "      <td>5</td>\n",
       "      <td>5</td>\n",
       "      <td>15157</td>\n",
       "      <td>17954</td>\n",
       "    </tr>\n",
       "    <tr>\n",
       "      <th>4</th>\n",
       "      <td>6</td>\n",
       "      <td>6</td>\n",
       "      <td>6</td>\n",
       "      <td>16400</td>\n",
       "      <td>18543</td>\n",
       "    </tr>\n",
       "  </tbody>\n",
       "</table>\n",
       "</div>"
      ],
      "text/plain": [
       "   blueKills  blueDeaths  blueAssists  blueTotalGold  blueTotalExperience\n",
       "0          9           6           11          17210                17039\n",
       "1          5           5            5          14712                16265\n",
       "2          7          11            4          16113                16221\n",
       "3          4           5            5          15157                17954\n",
       "4          6           6            6          16400                18543"
      ]
     },
     "execution_count": 9,
     "metadata": {},
     "output_type": "execute_result"
    }
   ],
   "source": [
    "df_clean = df_clean[cols]\n",
    "df_clean.head()"
   ]
  },
  {
   "cell_type": "markdown",
   "execution_count": null,
   "metadata": {},
   "source": [
    "# Normalizamos y dividimos entre el conjunto de entrenamiento y el conjunto de pruebas"
   ]
  },
  {
   "cell_type": "code",
   "execution_count": 10,
   "metadata": {},
   "outputs": [],
   "source": [
    "from sklearn.preprocessing import StandardScaler\n",
    "from sklearn.model_selection import train_test_split\n",
    "from sklearn.metrics import accuracy_score, recall_score, precision_score, confusion_matrix\n",
    "from prettytable import PrettyTable\n",
    "\n",
    "# Creamos la tabla que nos permitirá mostrar las métricas obtenidas.\n",
    "metricas = PrettyTable()\n",
    "metricas.field_names = ['Clasificador', 'Exactitud', 'Recall', 'Precisión']\n",
    "\n",
    "# Guardaremos los resultados en un vector para ser mostrados en la conclusión del trabajo.\n",
    "resultados = []\n",
    "\n",
    "X= df_clean\n",
    "\n",
    "# Normalizamos los datos\n",
    "X = StandardScaler().fit(X).transform(X)\n",
    "\n",
    "# Asignamos los valores de entrenamiento y prueba\n",
    "y = df['blueWins']\n",
    "X_train, X_test, y_train, y_test = train_test_split(X, y, test_size=0.25, random_state = 28)"
   ]
  },
  {
   "cell_type": "markdown",
   "execution_count": null,
   "metadata": {},
   "source": [
    "25% para el conjunto de pruebas"
   ]
  },
  {
   "cell_type": "code",
   "execution_count": 11,
   "metadata": {},
   "outputs": [
    {
     "name": "stdout",
     "output_type": "stream",
     "text": [
      "Train set: (7409, 5) (7409,)\n",
      "Test set: (2470, 5) (2470,)\n"
     ]
    }
   ],
   "source": [
    "print ('Train set:', X_train.shape,  y_train.shape)\n",
    "print ('Test set:', X_test.shape,  y_test.shape)"
   ]
  },
  {
   "cell_type": "markdown",
   "execution_count": null,
   "metadata": {},
   "source": [
    "# MODEL SELECTION"
   ]
  },
  {
   "cell_type": "markdown",
   "execution_count": null,
   "metadata": {},
   "source": [
    "> \"Logistic Regression is a useful model to run early in the workflow. Logistic regression measures the relationship between the categorical dependent variable (feature) and one or more independent variables (features) by estimating probabilities using a logistic function, which is the cumulative logistic distribution. Reference Wikipedia.\n",
    "> \n",
    "> Note the confidence score generated by the model based on our training dataset.\""
   ]
  },
  {
   "cell_type": "markdown",
   "execution_count": null,
   "metadata": {},
   "source": [
    "# Métrica para nuestros resultados\n",
    "- Accuracy (Exactitud): Es el porcentaje total de elementos clasificados correctamente. Es la medida más directa de la calidad de los clasificadores. Es un valor entre 0 y 1. Cuanto más alto, mejor.\n",
    "\n",
    "- Recall (Tasa de True Positive): Es el número de elementos identificados correctamente como positivos del total de positivos verdaderos.\n",
    "\n",
    "- Precision: Es el número de elementos identificados correctamente como positivo de un total de elementos identificados como positivos.\n",
    "\n",
    "- Confusion Matrix (Matriz de Confusión): Es una tabla que describe el rendimiento de un modelo supervisado de Machine Learning en los datos de prueba, donde se desconocen los verdaderos valores.\n"
   ]
  },
  {
   "cell_type": "markdown",
   "execution_count": null,
   "metadata": {},
   "source": [
    "### GridSearchCV\n",
    "\n",
    "Es una clase disponible en scikit-learn que permite evaluar y seleccionar de forma sistemática los parámetros de un modelo. Indicándole un modelo y los parámetros a probar, puede evaluar el rendimiento del primero en función de los segundos mediante validación cruzada.\n",
    "\n",
    "### Validación Cruzada\n",
    "Al hacer uso de esta tecnica, el conjunto de datos de entrenamiento se divide en grupos de igual tamaño. Una vez realizada la partición se procede a entrenar el modelo una vez por cada uno de los grupos. Utilizando todos los grupos menos el de la iteración para entrenar y este para validar los resultados. Como se aprecia en al siguiente imagen:"
   ]
  },
  {
   "cell_type": "code",
   "execution_count": 12,
   "metadata": {},
   "outputs": [],
   "source": [
    "# Importamos la clase de scikit-learn\n",
    "from sklearn.model_selection import GridSearchCV\n",
    "\n",
    "# Creamos la tabla que nos permitirá mostrar las métricas obtenidas.\n",
    "metricas_grid_search = PrettyTable()\n",
    "metricas_grid_search.field_names = ['Clasificador', 'Exactitud', 'Recall', 'Precisión']\n",
    "\n",
    "# Guardaremos los resultados en un vector para ser mostrados en la conclusión del trabajo.\n",
    "resultados_grid_search = []"
   ]
  },
  {
   "cell_type": "markdown",
   "execution_count": null,
   "metadata": {},
   "source": [
    "Regresión Logística"
   ]
  },
  {
   "cell_type": "code",
   "execution_count": 13,
   "metadata": {},
   "outputs": [
    {
     "name": "stdout",
     "output_type": "stream",
     "text": [
      "Parámetros elegidos: {'C': 0.01, 'fit_intercept': False, 'penalty': 'l1', 'solver': 'liblinear'}\n",
      "\n"
     ]
    }
   ],
   "source": [
    "from sklearn.linear_model import LogisticRegression\n",
    "\n",
    "# Colocamos los valores de parámetros que queremos que GridSearchCV pruebe por nosotros\n",
    "grid_values = {'penalty': ['l1', 'l2'],\n",
    "               'C':[.001,.009,0.01,.09,1,2,3,4,5,7,10,25],\n",
    "               'solver': ['newton-cg', 'lbfgs', 'liblinear', 'sag', 'saga'],\n",
    "               'fit_intercept' : [True, False]}\n",
    "\n",
    "# Instanciamos la clase con los parámetros previamente asignados\n",
    "grid_clf_acc = GridSearchCV(LogisticRegression(), param_grid = grid_values, scoring = 'accuracy', verbose=False, n_jobs=-1)\n",
    "\n",
    "# Seleccionamos la tabla entera, ya que el método se encargará de realizar la técnica de Cross-Validation\n",
    "grid_clf_acc.fit(X, y)\n",
    "\n",
    "# Imprimimos los mejores parámetros seleccionados por GridSearchCV\n",
    "print(\"Parámetros elegidos: \" + str(grid_clf_acc.best_params_) + \"\\n\")\n",
    "\n",
    "# Predecimos los valores\n",
    "y_pred_acc = grid_clf_acc.predict(X)\n",
    "\n",
    "# Métricas de evaluación\n",
    "exactitud = accuracy_score(y,y_pred_acc)\n",
    "recall = recall_score(y,y_pred_acc)\n",
    "precision = precision_score(y,y_pred_acc)\n",
    "LR_confusion_matrix = confusion_matrix(y,y_pred_acc)\n",
    "\n",
    "# Anexamos los resultados para ser mostrados posteriormente\n",
    "resultados_grid_search.append(exactitud)\n",
    "\n",
    "# Formateamos los datos para mostrarlos como % en la tabla.\n",
    "exactitud = str(round(exactitud * 100, 2)) + \" %\"\n",
    "recall = str(round(recall * 100, 2)) + \" %\"\n",
    "precision = str(round(precision * 100, 2)) + \" %\"\n",
    "\n",
    "metricas_grid_search.add_row(['Regresión Logística', exactitud, recall, precision])"
   ]
  },
  {
   "cell_type": "markdown",
   "execution_count": null,
   "metadata": {},
   "source": [
    "\n",
    "K-Nearest Neighbours"
   ]
  },
  {
   "cell_type": "code",
   "execution_count": 14,
   "metadata": {},
   "outputs": [
    {
     "name": "stdout",
     "output_type": "stream",
     "text": [
      "Parámetros elegidos: {'metric': 'euclidean', 'n_neighbors': 86, 'weights': 'uniform'}\n",
      "\n"
     ]
    }
   ],
   "source": [
    "from sklearn.neighbors import KNeighborsClassifier\n",
    "\n",
    "\n",
    "# Colocamos los valores de parámetros que queremos que GridSearchCV pruebe por nosotros\n",
    "grid_values = {\"n_neighbors\": [3, 4, 5, 6, 7, 8, 9, 10, 11, 12, 13, 14, 15, 16, 17, 18, 20, 22, 25, 30, 86, 87, 88, 100],\n",
    "                 \"weights\": [\"uniform\",\"distance\"],\n",
    "                 \"metric\":[\"euclidean\",\"manhattan\"]}\n",
    "\n",
    "# Instanciamos la clase con los parámetros previamente asignados\n",
    "grid_clf_acc = GridSearchCV(KNeighborsClassifier(), param_grid = grid_values, scoring = 'accuracy', verbose=False, n_jobs=-1)\n",
    "\n",
    "# Seleccionamos la tabla entera, ya que el método se encargará de realizar la técnica de Cross-Validation\n",
    "grid_clf_acc.fit(X, y)\n",
    "\n",
    "# Imprimimos los mejores parámetros seleccionados por GridSearchCV\n",
    "print(\"Parámetros elegidos: \" + str(grid_clf_acc.best_params_) + \"\\n\")\n",
    "\n",
    "# Predecimos los valores\n",
    "y_pred_acc = grid_clf_acc.predict(X)\n",
    "\n",
    "# Métricas de evaluación\n",
    "exactitud = accuracy_score(y,y_pred_acc)\n",
    "recall = recall_score(y,y_pred_acc)\n",
    "precision = precision_score(y,y_pred_acc)\n",
    "KNN_confusion_matrix = confusion_matrix(y,y_pred_acc)\n",
    "\n",
    "# Anexamos los resultados para ser mostrados posteriormente\n",
    "resultados_grid_search.append(exactitud)\n",
    "\n",
    "# Formateamos los datos para mostrarlos como % en la tabla.\n",
    "exactitud = str(round(exactitud * 100, 2)) + \" %\"\n",
    "recall = str(round(recall * 100, 2)) + \" %\"\n",
    "precision = str(round(precision * 100, 2)) + \" %\"\n",
    "\n",
    "metricas_grid_search.add_row(['K-Nearest Neighbours', exactitud, recall, precision])"
   ]
  },
  {
   "cell_type": "markdown",
   "execution_count": null,
   "metadata": {},
   "source": [
    "Decision Tree"
   ]
  },
  {
   "cell_type": "code",
   "execution_count": 15,
   "metadata": {},
   "outputs": [
    {
     "name": "stdout",
     "output_type": "stream",
     "text": [
      "Parámetros elegidos: {'max_depth': 5, 'min_samples_leaf': 100}\n",
      "\n"
     ]
    }
   ],
   "source": [
    "from sklearn.tree import DecisionTreeClassifier\n",
    "\n",
    "\n",
    "# Colocamos los valores de parámetros que queremos que GridSearchCV pruebe por nosotros\n",
    "grid_values = {'max_depth': np.arange(1, 21),\n",
    "               'min_samples_leaf': [1, 5, 10, 20, 50, 100]}\n",
    "\n",
    "# Instanciamos la clase con los parámetros previamente asignados\n",
    "grid_clf_acc = GridSearchCV(DecisionTreeClassifier(), param_grid = grid_values, scoring = 'accuracy', verbose=False, n_jobs=-1)\n",
    "\n",
    "# Seleccionamos la tabla entera, ya que el método se encargará de realizar la técnica de Cross-Validation\n",
    "grid_clf_acc.fit(X, y)\n",
    "\n",
    "# Imprimimos los mejores parámetros seleccionados por GridSearchCV\n",
    "print(\"Parámetros elegidos: \" + str(grid_clf_acc.best_params_) + \"\\n\")\n",
    "\n",
    "# Predecimos los valores\n",
    "y_pred_acc = grid_clf_acc.predict(X)\n",
    "\n",
    "# Métricas de evaluación\n",
    "exactitud = accuracy_score(y,y_pred_acc)\n",
    "recall = recall_score(y,y_pred_acc)\n",
    "precision = precision_score(y,y_pred_acc)\n",
    "DT_confusion_matrix = confusion_matrix(y,y_pred_acc)\n",
    "\n",
    "# Anexamos los resultados para ser mostrados posteriormente\n",
    "resultados_grid_search.append(exactitud)\n",
    "\n",
    "# Formateamos los datos para mostrarlos como % en la tabla.\n",
    "exactitud = str(round(exactitud * 100, 2)) + \" %\"\n",
    "recall = str(round(recall * 100, 2)) + \" %\"\n",
    "precision = str(round(precision * 100, 2)) + \" %\"\n",
    "\n",
    "metricas_grid_search.add_row(['Decision Tree', exactitud, recall, precision])\n",
    "\n"
   ]
  },
  {
   "cell_type": "markdown",
   "execution_count": null,
   "metadata": {},
   "source": [
    "### Métricas"
   ]
  },
  {
   "cell_type": "code",
   "execution_count": 16,
   "metadata": {},
   "outputs": [
    {
     "name": "stdout",
     "output_type": "stream",
     "text": [
      "Clasificadores con GridSearchCV (Ordenados por Exactitud)\n",
      "+----------------------+-----------+---------+-----------+\n",
      "|     Clasificador     | Exactitud |  Recall | Precisión |\n",
      "+----------------------+-----------+---------+-----------+\n",
      "| K-Nearest Neighbours |   72.2 %  | 70.37 % |  72.97 %  |\n",
      "|    Decision Tree     |   72.1 %  |  71.5 % |  72.29 %  |\n",
      "| Regresión Logística  |  72.09 %  | 72.09 % |  72.02 %  |\n",
      "+----------------------+-----------+---------+-----------+\n"
     ]
    }
   ],
   "source": [
    "print(\"Clasificadores con GridSearchCV (Ordenados por Exactitud)\")\n",
    "metricas_grid_search.sortby = \"Exactitud\"\n",
    "metricas_grid_search.reversesort = True\n",
    "print(metricas_grid_search)"
   ]
  },
  {
   "cell_type": "markdown",
   "execution_count": null,
   "metadata": {},
   "source": [
    "\n",
    "### Matrices de Confusión"
   ]
  },
  {
   "cell_type": "code",
   "execution_count": 17,
   "metadata": {},
   "outputs": [
    {
     "data": {
      "image/png": "[encoded data removed]",
      "text/plain": [
       "<Figure size 1440x720 with 6 Axes>"
      ]
     },
     "metadata": {
      "needs_background": "light"
     },
     "output_type": "display_data"
    }
   ],
   "source": [
    "import seaborn as sns\n",
    "\n",
    "plt.figure(figsize=(20,10))\n",
    "\n",
    "plt.subplot(221)\n",
    "sns.heatmap(LR_confusion_matrix, cmap=\"coolwarm\", fmt=\".0f\",annot=True, linewidths=.5, annot_kws={\"size\": 16})\n",
    "plt.xlabel(\"Prediccion\")\n",
    "plt.ylabel(\"Verdadero\")\n",
    "plt.title('Regresión Logistica')\n",
    "plt.tight_layout(pad=1.5)\n",
    "\n",
    "plt.subplot(222)\n",
    "sns.heatmap(KNN_confusion_matrix, cmap=\"coolwarm\", fmt=\".0f\",annot=True, linewidths=.5, annot_kws={\"size\": 16})\n",
    "plt.xlabel(\"Prediccion\")\n",
    "plt.ylabel(\"Verdadero\")\n",
    "plt.title('K-Nearest Neighbours')\n",
    "plt.tight_layout(pad=1.5)\n",
    "\n",
    "plt.subplot(223)\n",
    "sns.heatmap(DT_confusion_matrix, cmap=\"coolwarm\", fmt=\".0f\",annot=True, linewidths=.5, annot_kws={\"size\": 16})\n",
    "plt.xlabel(\"Prediccion\")\n",
    "plt.ylabel(\"Verdadero\")\n",
    "plt.title('Decision Tree')\n",
    "plt.tight_layout(pad=1.5)\n",
    "\n",
    "plt.show()"
   ]
  },
  {
   "cell_type": "markdown",
   "execution_count": null,
   "metadata": {},
   "source": [
    "Conclusión"
   ]
  },
  {
   "cell_type": "code",
   "execution_count": 18,
   "metadata": {},
   "outputs": [
    {
     "data": {
      "image/png": "[encoded data removed]",
      "text/plain": [
       "<Figure size 1440x1080 with 1 Axes>"
      ]
     },
     "metadata": {
      "needs_background": "light"
     },
     "output_type": "display_data"
    }
   ],
   "source": [
    "plt.figure(figsize=(20,15))\n",
    "sns.set_style(\"whitegrid\")\n",
    "\n",
    "modelos = [\"Regresión Logística\", \"K-Nearest Neighbours\", \"Decision Tree\"]\n",
    "grafico_resultados_grid_search = pd.DataFrame({\"Puntuación\": resultados_grid_search, \"Modelos\": modelos})\n",
    "\n",
    "plt.subplot(312)\n",
    "sns.barplot(\"Puntuación\", \"Modelos\", data = grafico_resultados_grid_search)\n",
    "plt.ylabel(\"\")\n",
    "plt.title('Clasificadores con GridSearch + Cross Validation')\n",
    "plt.tight_layout(pad=2)"
   ]
  },
  {
   "cell_type": "markdown",
   "execution_count": null,
   "metadata": {},
   "source": [
    "# ¿Qué te parece?"
   ]
  }
 ],
 "metadata": {
  "kernelspec": {
   "display_name": "Python 3",
   "language": "python",
   "name": "python3"
  },
  "language_info": {
   "codemirror_mode": {
    "name": "ipython",
    "version": 3
   },
   "file_extension": ".py",
   "mimetype": "text/x-python",
   "name": "python",
   "nbconvert_exporter": "python",
   "pygments_lexer": "ipython3",
   "version": "3.7.6"
  }
 },
 "nbformat": 4,
 "nbformat_minor": 4
}
